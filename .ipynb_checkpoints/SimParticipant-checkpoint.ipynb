{
 "cells": [
  {
   "cell_type": "markdown",
   "id": "9f42d23e-98ef-4eca-a64b-5027ed74d216",
   "metadata": {},
   "source": [
    "# Statistical Participants"
   ]
  },
  {
   "cell_type": "markdown",
   "id": "013668eb-138d-49ca-9f87-9da84e79decf",
   "metadata": {},
   "source": [
    "## Introduction"
   ]
  },
  {
   "cell_type": "markdown",
   "id": "bf6d73dd-a6a4-4e4e-a1de-47069a1ee1ba",
   "metadata": {},
   "source": [
    "Here we construct and pseudo-randomly shuffle stimuli and then consecutively sort these using computer-generated participants (CSPs). CSPs are defined by decision procedures in which shuffled stimuli are grouped according to trained relations, symmetry and adjacency in varying degrees."
   ]
  },
  {
   "cell_type": "markdown",
   "id": "e099a287-b265-4e1c-9701-bb8dce08d7cd",
   "metadata": {},
   "source": [
    "## Code Steps"
   ]
  },
  {
   "cell_type": "markdown",
   "id": "4758ee98-5506-45a9-b960-8c05f4bfef38",
   "metadata": {},
   "source": [
    "### Setup (Libraries and Set Seed)"
   ]
  },
  {
   "cell_type": "markdown",
   "id": "3367ca56-091d-41dc-a60a-3df0117ae677",
   "metadata": {},
   "source": [
    "Here we import required libraries (`random` for CSP calculations, `collections` for a tallying function, and `matplotlib` and `seaborn` for plotting). Note that we also set a `seed` for reproducibility of these results by investigators."
   ]
  },
  {
   "cell_type": "code",
   "execution_count": 1,
   "id": "94aa7cf2-782d-4eb5-b3cf-ee72ff74c32f",
   "metadata": {},
   "outputs": [],
   "source": [
    "from random import sample, seed\n",
    "seed(42)\n",
    "from collections import Counter\n",
    "import matplotlib.pyplot as plt\n",
    "plt.style.use(\"seaborn-white\")\n",
    "import seaborn as sns"
   ]
  },
  {
   "cell_type": "markdown",
   "id": "bc6e560f-0273-4659-af01-f68bd5fb828c",
   "metadata": {},
   "source": [
    "### Generating Stimuli"
   ]
  },
  {
   "cell_type": "markdown",
   "id": "d151cf3c-b331-45bc-b32b-bf3ab714a81e",
   "metadata": {},
   "source": [
    "Here we make a function that generates stimulus groups. These consist of sets of `k` consecutive numbers separated from each other by a large `gap` (although note the real gap = `gap - k`):"
   ]
  },
  {
   "cell_type": "code",
   "execution_count": 2,
   "id": "6791952f-9c25-49f6-9e8b-3f774975629c",
   "metadata": {},
   "outputs": [],
   "source": [
    "def generate_stimuli(group_size, num_groups, gap=100):\n",
    "    return [ s + ( g * gap ) for g in range(num_groups) for s in range(1, group_size+1) ]"
   ]
  },
  {
   "cell_type": "markdown",
   "id": "98c47634-b3b7-44fa-820c-ed5a578baf6b",
   "metadata": {},
   "source": [
    "Example usage:"
   ]
  },
  {
   "cell_type": "code",
   "execution_count": 3,
   "id": "dbf6f891-56b6-497f-8a45-faa5293c9844",
   "metadata": {},
   "outputs": [
    {
     "data": {
      "text/plain": [
       "[1, 2, 3, 4, 101, 102, 103, 104, 201, 202, 203, 204]"
      ]
     },
     "execution_count": 3,
     "metadata": {},
     "output_type": "execute_result"
    }
   ],
   "source": [
    "k, n = 4, 3\n",
    "generate_stimuli(k, n)"
   ]
  },
  {
   "cell_type": "markdown",
   "id": "a059953d-3f6f-4a9b-8adc-833e61c8d484",
   "metadata": {},
   "source": [
    "### Setting Simulation Parameters"
   ]
  },
  {
   "cell_type": "markdown",
   "id": "138c6fa7-4849-409c-9867-62ad29c57043",
   "metadata": {},
   "source": [
    "We now establish the simulation parameters: `k`, `n`, number of SPs (`simlength`), a set of `stimuli` and two list variables (`n_prime` and `k_prime`) which collect together numbers of groups (per SP) and group sizes (concatenated after each SP run):"
   ]
  },
  {
   "cell_type": "code",
   "execution_count": 4,
   "id": "8e449d6c-f934-42bf-8672-c3c56c042da6",
   "metadata": {},
   "outputs": [],
   "source": [
    "k, n, simlength = 4, 3, 1000\n",
    "stimuli = generate_stimuli(k, n)\n",
    "n_prime, k_prime = [], []"
   ]
  },
  {
   "cell_type": "markdown",
   "id": "193eef7e-65d9-4b9a-a1e9-6969c1b01437",
   "metadata": {},
   "source": [
    "### Computer-Generated Participants"
   ]
  },
  {
   "cell_type": "markdown",
   "id": "1bc7a958-0fec-44dc-8413-d1d09cd1c3b0",
   "metadata": {},
   "source": [
    "Let's now run the main simulation loop:"
   ]
  },
  {
   "cell_type": "code",
   "execution_count": 5,
   "id": "01fc4fe0-2073-42f9-9a5f-357f3d093744",
   "metadata": {},
   "outputs": [],
   "source": [
    "for _ in range(simlength):\n",
    "    shuffled = sample(stimuli, len(stimuli))\n",
    "    piles = [ [shuffled.pop(0)] ]\n",
    "\n",
    "    for s in shuffled:\n",
    "        seeking = True\n",
    "        for p in piles:\n",
    "            for i, v in enumerate(p):\n",
    "                if seeking and ( 0 < abs(v - s) <= 1 ): #adjacent to that item in sublist\n",
    "                    p.insert(i, s)\n",
    "                    seeking = False\n",
    "                    break\n",
    "        if seeking:\n",
    "            piles.append([s])\n",
    "    n_prime.append(len(piles))\n",
    "    k_prime.extend([len(x) for x in piles])"
   ]
  },
  {
   "cell_type": "markdown",
   "id": "d1d73a8e-2ce8-4398-8a2e-97d957b7b152",
   "metadata": {},
   "source": [
    "### Plot Results"
   ]
  },
  {
   "cell_type": "markdown",
   "id": "a633b6e0-0403-4f6d-a28f-a62e7fb72888",
   "metadata": {},
   "source": [
    "We plot these results using the seaborn `countplot` convenience function which tabulates for us:"
   ]
  },
  {
   "cell_type": "code",
   "execution_count": 6,
   "id": "98f8d546-41ed-4843-b6e1-615ca6f53740",
   "metadata": {},
   "outputs": [
    {
     "data": {
      "text/plain": [
       "[Text(0.5, 0, 'group sizes across SPs'), Text(0, 0.5, 'number of instances')]"
      ]
     },
     "execution_count": 6,
     "metadata": {},
     "output_type": "execute_result"
    },
    {
     "data": {
      "image/png": "[encoded data removed]",
      "text/plain": [
       "<Figure size 1296x576 with 2 Axes>"
      ]
     },
     "metadata": {},
     "output_type": "display_data"
    }
   ],
   "source": [
    "fig, axs = plt.subplots(1, 2, figsize=(18,8)) #dpi= 150\n",
    "\n",
    "sns.countplot(x=n_prime, color=\"lightblue\", edgecolor = \"black\", ax=axs[0])\n",
    "axs[0].set(xlabel=\"number of groups per SP\", ylabel=\"number of instances\")\n",
    "\n",
    "sns.countplot(x=k_prime, color=\"mistyrose\", edgecolor = \"black\", ax=axs[1])\n",
    "axs[1].set(xlabel=\"group sizes across SPs\", ylabel=\"number of instances\")"
   ]
  },
  {
   "cell_type": "markdown",
   "id": "5db1d41e-b893-4c34-bc2c-4eb81f9d1c67",
   "metadata": {},
   "source": [
    "Let's just take a look at the last SP's results (for reassurance) also:"
   ]
  },
  {
   "cell_type": "code",
   "execution_count": 7,
   "id": "d0a9d1ce-2ba6-4ce0-b65c-432949b2da7c",
   "metadata": {},
   "outputs": [
    {
     "data": {
      "text/plain": [
       "[[102, 103, 104], [204, 202, 203], [3, 2, 1], [101], [201], [4]]"
      ]
     },
     "execution_count": 7,
     "metadata": {},
     "output_type": "execute_result"
    }
   ],
   "source": [
    "piles"
   ]
  },
  {
   "cell_type": "markdown",
   "id": "221c9375-60b7-4f52-9581-20866f7267d6",
   "metadata": {},
   "source": [
    "### Tabulating Data"
   ]
  },
  {
   "cell_type": "code",
   "execution_count": 8,
   "id": "f21a0d6e-5257-46a1-8eb2-a5b67a56dd4a",
   "metadata": {},
   "outputs": [
    {
     "name": "stdout",
     "output_type": "stream",
     "text": [
      "n_prime data:\n",
      "  num_groups\t       #_SPs\n",
      "           3\t          37\n",
      "           4\t         229\n",
      "           5\t         440\n",
      "           6\t         294\n",
      "\n",
      "k_prime data:\n",
      "  group_size\t    #_groups\n",
      "           1\t        1222\n",
      "           2\t        1538\n",
      "           3\t        1222\n",
      "           4\t        1009\n"
     ]
    }
   ],
   "source": [
    "n_table = Counter(n_prime)\n",
    "n_table = sorted(n_table.items())\n",
    "\n",
    "k_table = Counter(k_prime)\n",
    "k_table = sorted(k_table.items())\n",
    "\n",
    "print(\"n_prime data:\")\n",
    "print(\"  num_groups\\t       #_SPs\")\n",
    "for kv in n_table:\n",
    "    print(\"{0: 12}\\t{1: 12}\".format(kv[0], kv[1]))\n",
    "\n",
    "print(\"\\nk_prime data:\")\n",
    "print(\"  group_size\\t    #_groups\")\n",
    "for kv in k_table:\n",
    "    print(\"{0: 12}\\t{1: 12}\".format(kv[0], kv[1]))"
   ]
  },
  {
   "cell_type": "markdown",
   "id": "94b2635d-d246-4ee8-a8c6-4b59f612b781",
   "metadata": {},
   "source": [
    "## Toy Examples"
   ]
  },
  {
   "cell_type": "markdown",
   "id": "649b7daf-d3a2-4a4e-a52a-d6cd340ae06e",
   "metadata": {},
   "source": [
    "These are included to aid understanding of the code."
   ]
  },
  {
   "cell_type": "code",
   "execution_count": 9,
   "id": "1b865bdf-1b7b-49f3-a273-b2d61b471ddc",
   "metadata": {},
   "outputs": [
    {
     "data": {
      "text/plain": [
       "[1, 2, 3, 4, 101, 102, 103, 104, 201, 202, 203, 204]"
      ]
     },
     "execution_count": 9,
     "metadata": {},
     "output_type": "execute_result"
    }
   ],
   "source": [
    "stimuli"
   ]
  },
  {
   "cell_type": "code",
   "execution_count": 10,
   "id": "192beb8d-0755-4690-a143-ec4a26227c94",
   "metadata": {},
   "outputs": [
    {
     "data": {
      "text/plain": [
       "[202, 201, 102, 3, 101, 1, 4, 2, 204, 203, 103, 104]"
      ]
     },
     "execution_count": 10,
     "metadata": {},
     "output_type": "execute_result"
    }
   ],
   "source": [
    "shuffled = sample(stimuli, len(stimuli))\n",
    "shuffled"
   ]
  },
  {
   "cell_type": "code",
   "execution_count": 11,
   "id": "51d8acfe-37df-43a8-b552-04072c3c8d1b",
   "metadata": {},
   "outputs": [
    {
     "data": {
      "text/plain": [
       "[[202]]"
      ]
     },
     "execution_count": 11,
     "metadata": {},
     "output_type": "execute_result"
    }
   ],
   "source": [
    "piles = [ [shuffled.pop(0)] ]\n",
    "piles"
   ]
  },
  {
   "cell_type": "code",
   "execution_count": 12,
   "id": "ea70878a-58b8-486d-84fd-3f74da2f5b5f",
   "metadata": {},
   "outputs": [
    {
     "data": {
      "text/plain": [
       "[201, 102, 3, 101, 1, 4, 2, 204, 203, 103, 104]"
      ]
     },
     "execution_count": 12,
     "metadata": {},
     "output_type": "execute_result"
    }
   ],
   "source": [
    "shuffled"
   ]
  },
  {
   "cell_type": "markdown",
   "id": "df19d1d0-673d-4bb6-af8d-45a35ac046a1",
   "metadata": {},
   "source": [
    "Main loop with diagnostic print statements:"
   ]
  },
  {
   "cell_type": "code",
   "execution_count": 13,
   "id": "681d0a5c-4561-4201-960d-588eb752ae0d",
   "metadata": {},
   "outputs": [
    {
     "name": "stdout",
     "output_type": "stream",
     "text": [
      "HIT! stimulus: 201, sublist: [202], modified: [201, 202]\n",
      "HIT! stimulus: 101, sublist: [102], modified: [101, 102]\n",
      "HIT! stimulus: 4, sublist: [3], modified: [4, 3]\n",
      "HIT! stimulus: 2, sublist: [4, 3], modified: [4, 2, 3]\n",
      "HIT! stimulus: 203, sublist: [201, 202], modified: [201, 203, 202]\n",
      "HIT! stimulus: 103, sublist: [101, 102], modified: [101, 103, 102]\n",
      "HIT! stimulus: 104, sublist: [101, 103, 102], modified: [101, 104, 103, 102]\n"
     ]
    }
   ],
   "source": [
    "for s in shuffled:\n",
    "    seeking = True\n",
    "    for p in piles:\n",
    "        for i, v in enumerate(p):\n",
    "            if seeking and ( 0 < abs(v - s) <= 1 ): #adjacent to that item in sublist\n",
    "                print(f\"HIT! stimulus: {s}, sublist: {p}\", end =\"\")\n",
    "                p.insert(i, s)\n",
    "                seeking = False\n",
    "                print(f\", modified: {p}\")\n",
    "                break\n",
    "    if seeking:\n",
    "        piles.append([s])\n",
    "        \n",
    "n_prime = len(piles)\n",
    "k_prime = [len(x) for x in piles]"
   ]
  },
  {
   "cell_type": "markdown",
   "id": "049e9b08-91a3-4183-8841-6e1fd3d469f7",
   "metadata": {},
   "source": [
    "# Deprecated Methods"
   ]
  },
  {
   "cell_type": "markdown",
   "id": "d6abf9b9-35e8-436d-a701-8cb0fa1becab",
   "metadata": {},
   "source": [
    "## Tabulation Methods"
   ]
  },
  {
   "cell_type": "code",
   "execution_count": 14,
   "id": "39e82d21-e54d-4d3a-bbef-e561433f32fb",
   "metadata": {},
   "outputs": [
    {
     "data": {
      "text/plain": [
       "[3, 4, 3, 1, 1]"
      ]
     },
     "execution_count": 14,
     "metadata": {},
     "output_type": "execute_result"
    }
   ],
   "source": [
    "k_prime"
   ]
  },
  {
   "cell_type": "code",
   "execution_count": 15,
   "id": "8601bf26-0e1f-4739-a400-dfa0461dcee7",
   "metadata": {},
   "outputs": [
    {
     "data": {
      "text/plain": [
       "([1, 3, 4], [2, 2, 1])"
      ]
     },
     "execution_count": 15,
     "metadata": {},
     "output_type": "execute_result"
    }
   ],
   "source": [
    "k_values = sorted(set(k_prime))\n",
    "k_numbers = [k_prime.count(x) for x in k_values]\n",
    "k_values, k_numbers"
   ]
  },
  {
   "cell_type": "markdown",
   "id": "3cb56345-9769-46d7-b414-6d904244284e",
   "metadata": {},
   "source": [
    "## Graphical Methods"
   ]
  },
  {
   "cell_type": "code",
   "execution_count": 16,
   "id": "da8abf92-87d4-407e-a625-a88c42e0e248",
   "metadata": {},
   "outputs": [],
   "source": [
    "#plt.rcParams[\"figure.figsize\"] = (16,8)"
   ]
  },
  {
   "cell_type": "code",
   "execution_count": 17,
   "id": "5e634334-b786-432b-b8f8-5d15dc1fa50c",
   "metadata": {},
   "outputs": [],
   "source": [
    "#ax1.bar(n_values, n_numbers, color=\"lightblue\", edgecolor = \"black\")\n",
    "#ax1.set(xlabel=\"number of equivalence groups\", ylabel=\"frequency\")\n",
    "\n",
    "#ax2.bar(k_values, k_numbers, color=\"mistyrose\", edgecolor = \"black\")\n",
    "#ax2.set(xlabel=\"equivalence group size\", ylabel=\"frequency\")"
   ]
  },
  {
   "cell_type": "code",
   "execution_count": null,
   "id": "96ce4cc3-f035-4279-932f-c8cadde200cf",
   "metadata": {},
   "outputs": [],
   "source": []
  }
 ],
 "metadata": {
  "kernelspec": {
   "display_name": "Python 3 (ipykernel)",
   "language": "python",
   "name": "python3"
  },
  "language_info": {
   "codemirror_mode": {
    "name": "ipython",
    "version": 3
   },
   "file_extension": ".py",
   "mimetype": "text/x-python",
   "name": "python",
   "nbconvert_exporter": "python",
   "pygments_lexer": "ipython3",
   "version": "3.8.12"
  }
 },
 "nbformat": 4,
 "nbformat_minor": 5
}
